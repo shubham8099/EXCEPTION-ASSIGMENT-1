{
 "cells": [
  {
   "cell_type": "raw",
   "id": "c94d0262-cc0d-424a-a73a-9e9a2c015843",
   "metadata": {},
   "source": [
    "Q WHAT IS AN EXCEPTION IN PYTHON ? WRITE THE DIFFERNCE BETWEEN EXCEPTION AND SYNTAX ERRORS ?"
   ]
  },
  {
   "cell_type": "raw",
   "id": "362f038b-55ba-4e96-b900-51aba1dbf243",
   "metadata": {},
   "source": [
    "ANSWER = EXCEPTION  IS A TYPE OF MOUDLE OR SUPERCLASS OF EXCEPT IN THE PYHTON IN WHICH\n",
    "         WE CAN RUN THE CODE WITHOUT CRASHING THE CODE & WITHOUT \n",
    "         ERROR OF THE CODE . EXECEPTION MAKE AN BLOCK IN WHICH\n",
    "         THE USER PASS THE CODE IN THE EXCEPTION BLOCK AND \n",
    "         AFTER RUNNING THE CODE EXCEPTION WILL PASS THE CODE\n",
    "         AND RUN THE PROGRAM SUCESSFULLY.\n",
    "         \n",
    "         \n",
    "\n",
    "\n",
    "SYNTAX ERRORS = SYNTAX ERROS OCCUR WHEN THE INTERPETER SHOW INVALID SYNTAX ON EXCUTING THE PYTHON CODE . SYNTAX ERROR OCCOR\n",
    "                WHEN DUE TO MISSED REVERSED KEYWORD , SPACE , QUOTES PLACED IMPORPERLY .\n",
    "                \n",
    "                \n",
    "                \n",
    "* DIFFERNCE BETWEEN EXCEPTION & SYNTAX ERRORS :-\n",
    "\n",
    "\n",
    "SYNTAX ERROR IS AN ISSUE OF PROGRAM THAT PREVENT THE PROGRAM TO COMPLETE THEIR TASK .IN COMPARISON THE EXCEPTION IS A \n",
    "CONDITION IN WHICH THEY MAKE THE PROGRAM RUN WITHOUT THE ERROR AND MAKE THE PROGRAM FLOW COUNTINIOUS ."
   ]
  },
  {
   "cell_type": "raw",
   "id": "a50bcc32-86d1-485a-a05a-6e8cdc82d4f3",
   "metadata": {},
   "source": [
    "Q2. WHAT HAPPENS WHEN AN EXCEPTION IS NOT HANDLE ? EXPLAIN WITH EXAMPLE ."
   ]
  },
  {
   "cell_type": "raw",
   "id": "ce088f81-dd9a-4ad8-ba5a-165e6bcb9d0e",
   "metadata": {},
   "source": [
    "ANSWER = WHEN AN EXCEPTION IS NOT HANDLE THE PROGRAM THEN SYNTACTICALLY CORRECT CODE RUN INTO AN ,\n",
    "         ERROR AND PYTHON WILL THROW EXCEPTION ERROR . THIS EXCEPTION WILL CRASH THE PROGRAM IF \n",
    "         IT IS UNHANDLE .\n",
    "         \n",
    "LET US WE TAKEING AN EXAMPLE , DIVIDE BY ZERO EXCEPTION\n"
   ]
  },
  {
   "cell_type": "code",
   "execution_count": 2,
   "id": "a0bb4641-b048-407a-b723-2336d41602a7",
   "metadata": {},
   "outputs": [],
   "source": [
    "import logging\n",
    "logging.basicConfig(filename = \"error.txt\" , level = logging.error)\n",
    "try :\n",
    "    10/0\n",
    "except ZeroDivisionError as e :\n",
    "    logging.error(\"i am trying to handle ZeroDivisonError {} \" .format(e))\n",
    "#THIS IS AN EXAMPLE OF ZERODIVISON ERROR    "
   ]
  },
  {
   "cell_type": "code",
   "execution_count": 3,
   "id": "77de98fb-9ce1-4ad4-8106-09fa1bf3856a",
   "metadata": {},
   "outputs": [],
   "source": [
    "#LET US TAKEING AN ANOTHER EXAMPLE\n",
    "mark = 1000\n"
   ]
  },
  {
   "cell_type": "code",
   "execution_count": 4,
   "id": "6a7780f7-19a6-4555-830b-b2f1be52b800",
   "metadata": {},
   "outputs": [
    {
     "ename": "ZeroDivisionError",
     "evalue": "division by zero",
     "output_type": "error",
     "traceback": [
      "\u001b[0;31m---------------------------------------------------------------------------\u001b[0m",
      "\u001b[0;31mZeroDivisionError\u001b[0m                         Traceback (most recent call last)",
      "Cell \u001b[0;32mIn[4], line 1\u001b[0m\n\u001b[0;32m----> 1\u001b[0m a \u001b[38;5;241m=\u001b[39m \u001b[43mmark\u001b[49m\u001b[38;5;241;43m/\u001b[39;49m\u001b[38;5;241;43m0\u001b[39;49m\n\u001b[1;32m      2\u001b[0m \u001b[38;5;28mprint\u001b[39m(a)\n",
      "\u001b[0;31mZeroDivisionError\u001b[0m: division by zero"
     ]
    }
   ],
   "source": [
    "a = mark/0\n",
    "print(a)"
   ]
  },
  {
   "cell_type": "raw",
   "id": "67725353-6267-4d11-a0e6-cd396a38c071",
   "metadata": {},
   "source": [
    "Q3 = WHICH PYTHON STATEMENTS ARE USED TO CATCH AND HANDLE EXCEPTIONS ? EXPLAIN WITH AN EXAMPLE ."
   ]
  },
  {
   "cell_type": "raw",
   "id": "70410fa0-23b1-468c-95c0-e6c016602857",
   "metadata": {},
   "source": [
    "TRY AND EXCEPT BLOCK ARE USED TO CATCH & HANDLE THE EXCEPTION\n",
    "\n",
    "LET US TAKEING AN EXAMPLE...."
   ]
  },
  {
   "cell_type": "code",
   "execution_count": 10,
   "id": "f04b6e77-ee31-4a51-bd6c-8cb02e9731da",
   "metadata": {},
   "outputs": [
    {
     "name": "stdout",
     "output_type": "stream",
     "text": [
      "i am try to search my file\n"
     ]
    }
   ],
   "source": [
    "import logging \n",
    "logging.basicConfig(filename = \"test12.txt\" , level = logging.DEBUG)\n",
    "try :\n",
    "    print(\"i am try to search my file\")\n",
    "    \n",
    "\n",
    "    \n",
    "except Exception as e :\n",
    "    print(\"this is my except block\" , e)\n",
    "        \n",
    "        \n",
    "        \n",
    "    \n",
    "    \n"
   ]
  },
  {
   "cell_type": "raw",
   "id": "f8c1f9b9-ba20-4b11-82de-53bed526a263",
   "metadata": {},
   "source": [
    "Q4 EXPLAIN WITH EXAMPLE\n",
    "  * TRY & ELSE \n",
    "  * FINALLY\n",
    "  * RAISE"
   ]
  },
  {
   "cell_type": "raw",
   "id": "79b7265f-7ff7-4beb-9f0f-0b5d59dc8126",
   "metadata": {},
   "source": [
    "* TRY BLOCK TEST THE BLOCK FOR THE ERROR.\n",
    "* ELSE BLOCK EXCUTE THE CODE WHEN THERE IS NO ERROR.\n",
    "* FINALLY BLOCK GIVE THE RESULT OF THE PROGRAM REGARDLESS THE TRY OR ELSE BLOCK AND      \n",
    "  EXCEPT BLOCK\n",
    "* RAISE IS AN ERROR AND STOP THE PROGRAM IF THE GIVEN VALUE < 0    \n",
    "  \n",
    "LET US TAKEING AN EXAMPLE OF THESE BLOCK "
   ]
  },
  {
   "cell_type": "code",
   "execution_count": 15,
   "id": "2282ccb1-805a-4456-bc71-298904fe8687",
   "metadata": {},
   "outputs": [
    {
     "name": "stdout",
     "output_type": "stream",
     "text": [
      "something went wrong and i canot be write\n"
     ]
    }
   ],
   "source": [
    "try :\n",
    "    open(\"demofile.txt\")\n",
    "    try :\n",
    "        f.write(\"my name is shubhah shah\")\n",
    "    except :\n",
    "        print(\"something went wrong to write a file\")\n",
    "    finally :\n",
    "        f.close()\n",
    "except:\n",
    "        print(\"something went wrong and i canot be write\")\n",
    "    "
   ]
  },
  {
   "cell_type": "raw",
   "id": "dcca9378-0fce-41ca-8fe3-a191111b4916",
   "metadata": {},
   "source": [
    "Q6 WHAT ARE THE CUSTOM EXCEPTIONS IN PYTHON ? WHY DO WE NEED USE CUSTOM EXCEPTION?     \n",
    "   EXPLAIN WITH EXAMPLE."
   ]
  },
  {
   "cell_type": "raw",
   "id": "17e23528-4c88-4240-910b-df23b48b6c8e",
   "metadata": {},
   "source": [
    "CUSTOM EXCEPTIONS :- CUSTOM EXCEPTION IS EXCEPTION IN WHICH \n",
    "                     THE EXCEPTION ARE MADE AND GIVEN BY USER THROUGH \n",
    "                     ITSELF.\n",
    "\n",
    "* WE USE CUSTOM EXCEPTION BECAUSE SOMETIME CUSTOM WHICH WE WANT ARE NOT PRESENT IN \n",
    "  THE SYSTEM SO WE CAN USE OUR OWN MADE CUSTOM TO PROCESS OUR PROGRAM.\n",
    "  \n",
    "LET US TAKEING AN EXAMPLE OF CUSTOM EXCEPTION ."
   ]
  },
  {
   "cell_type": "code",
   "execution_count": 2,
   "id": "9c4944d2-aa00-4c01-99ad-61088a4c4989",
   "metadata": {},
   "outputs": [],
   "source": [
    "def validateage(age):\n",
    "    if age < 0 :\n",
    "        raise validateage(\"enter age is negative\")\n",
    "    elif age > 200 :\n",
    "        raise validateage(\"enter age is too high \")\n",
    "    else  :\n",
    "        print(\"age is valid\")\n",
    "        \n",
    "        \n",
    "    \n",
    "        \n",
    "    "
   ]
  },
  {
   "cell_type": "code",
   "execution_count": 7,
   "id": "5c61a9c5-95af-4e76-87bd-362bee7ea955",
   "metadata": {},
   "outputs": [
    {
     "name": "stdin",
     "output_type": "stream",
     "text": [
      "enter your age 65\n"
     ]
    },
    {
     "name": "stdout",
     "output_type": "stream",
     "text": [
      "age is valid\n"
     ]
    }
   ],
   "source": [
    "import logging\n",
    "logging.basicConfig(filename = \"age_details.txt\" , level = logging.DEBUG)\n",
    "try :\n",
    "    age = int(input(\"enter your age\"))\n",
    "    validateage(age)\n",
    "except validateage as e :\n",
    "    logging.error(\"i am trying to find out my age {}\" .format(e))\n",
    "    print(e)\n",
    "    e.close()"
   ]
  },
  {
   "cell_type": "raw",
   "id": "f93bd8b7-4318-48fe-bded-ba0b538c1b97",
   "metadata": {},
   "source": [
    "FROM THE ABOVE EXAMPLE SHOW THAT'S CUSTOM EXCEPTION "
   ]
  },
  {
   "cell_type": "raw",
   "id": "45bf6287-9940-47b5-8470-a67626367fd5",
   "metadata": {},
   "source": [
    "Q6 CREATE A CUSTOM EXCEPTION CLASS.USE THIS CLASS TO HANDLE EXCEPTION."
   ]
  },
  {
   "cell_type": "raw",
   "id": "9511dbda-a00c-4771-b885-71b640ef2304",
   "metadata": {},
   "source": [
    "LET US TAKEING AN EXAMPLE OF AN CUSTOM CLASS EXCEPTION WITH A CLASS"
   ]
  },
  {
   "cell_type": "code",
   "execution_count": 1,
   "id": "2d0b4a13-1ac4-46c7-8cad-3639bfbb4f5f",
   "metadata": {},
   "outputs": [],
   "source": [
    "class validateage(Exception):\n",
    "    \n",
    "    def __init__(self , msg):\n",
    "        self.msg = msg\n",
    "        \n",
    "        \n",
    "    "
   ]
  },
  {
   "cell_type": "code",
   "execution_count": 2,
   "id": "0e0f1101-69e6-4c76-9046-90592e230b62",
   "metadata": {},
   "outputs": [],
   "source": [
    "def validateage(age):\n",
    "    if age < 0 :\n",
    "        raise validateage(\"you age is negative\")\n",
    "    elif age > 200 :\n",
    "        raise validateage(\"you age is soo high\")\n",
    "    else :\n",
    "        print(\"your age is valid\")\n",
    "        \n",
    "        \n",
    "        \n",
    "    "
   ]
  },
  {
   "cell_type": "code",
   "execution_count": 6,
   "id": "4fa0f155-1517-4f0f-89a1-ee958005d942",
   "metadata": {},
   "outputs": [
    {
     "name": "stdin",
     "output_type": "stream",
     "text": [
      "enter your age 67\n"
     ]
    },
    {
     "name": "stdout",
     "output_type": "stream",
     "text": [
      "your age is valid\n"
     ]
    }
   ],
   "source": [
    "import logging\n",
    "logging.basicConfig(filename = \"age_data.txt\" , level = logging.DEBUG)\n",
    "try :\n",
    "    age = int(input(\"enter your age\"))\n",
    "    validateage(age)\n",
    "except validateage as e :\n",
    "    logging.info(\"an error is give when i give my age negative {}\".format(e) )\n",
    "    print(e)"
   ]
  },
  {
   "cell_type": "raw",
   "id": "dcbb0dc2-dff7-4648-8e28-21277e89c40d",
   "metadata": {},
   "source": [
    "FROM ABOVE THE EXAMPLE SHOWS THAT A CUSTOM EXCEPTION BY USING A CLASS"
   ]
  },
  {
   "cell_type": "code",
   "execution_count": null,
   "id": "bc685f5b-7773-4f6a-9166-7df72e6d43fa",
   "metadata": {},
   "outputs": [],
   "source": []
  }
 ],
 "metadata": {
  "kernelspec": {
   "display_name": "Python 3 (ipykernel)",
   "language": "python",
   "name": "python3"
  },
  "language_info": {
   "codemirror_mode": {
    "name": "ipython",
    "version": 3
   },
   "file_extension": ".py",
   "mimetype": "text/x-python",
   "name": "python",
   "nbconvert_exporter": "python",
   "pygments_lexer": "ipython3",
   "version": "3.10.8"
  }
 },
 "nbformat": 4,
 "nbformat_minor": 5
}
